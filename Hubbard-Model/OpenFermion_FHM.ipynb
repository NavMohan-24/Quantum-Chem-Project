{
  "nbformat": 4,
  "nbformat_minor": 0,
  "metadata": {
    "colab": {
      "provenance": []
    },
    "kernelspec": {
      "name": "python3",
      "display_name": "Python 3"
    },
    "language_info": {
      "name": "python"
    }
  },
  "cells": [
    {
      "cell_type": "code",
      "execution_count": null,
      "metadata": {
        "colab": {
          "base_uri": "https://localhost:8080/"
        },
        "id": "ztEFWnPE40MQ",
        "outputId": "7eeea458-9faf-40d9-c478-3048a3cf4a65"
      },
      "outputs": [
        {
          "output_type": "stream",
          "name": "stdout",
          "text": [
            "  Installing build dependencies ... \u001b[?25l\u001b[?25hdone\n",
            "  Getting requirements to build wheel ... \u001b[?25l\u001b[?25hdone\n",
            "  Preparing metadata (pyproject.toml) ... \u001b[?25l\u001b[?25hdone\n"
          ]
        }
      ],
      "source": [
        "!pip install git+https://github.com/quantumlib/OpenFermion-FQE --quiet"
      ]
    },
    {
      "cell_type": "code",
      "source": [
        "import copy\n",
        "from itertools import product\n",
        "\n",
        "import matplotlib.pyplot as plt\n",
        "import numpy as np\n",
        "from scipy import sparse\n",
        "from scipy.linalg import expm\n",
        "\n",
        "import openfermion as of\n",
        "import fqe"
      ],
      "metadata": {
        "id": "5_wL4WZ356An"
      },
      "execution_count": null,
      "outputs": []
    },
    {
      "cell_type": "markdown",
      "source": [
        "# Fermi-Hubbard Model\n",
        "\n",
        "The Hamiltonian of the system is given by:\n",
        "\n",
        "$$H = - J \\sum_{j = 1}^{L - 1} \\sum_{\\sigma \\in \\{ \\uparrow, \\downarrow \\} } c_{j, \\sigma}^\\dagger c_{j + 1, \\sigma} + \\text{h.c.} + U \\sum_{j} n_{j\\uparrow} n_{j\\downarrow}$$\n",
        "\n",
        "where,\n",
        "\n",
        "- $c_{j} (c_{j}^{\\dagger})$ is the annihilation (creation) operator.\n",
        "- $J$ hopping coefficient -  describes particles tunneling between neighboring sites.\n",
        "- $U$ is the onsite interaction energy - the nature of the energy can be repulsive or attractive.\n",
        "- $J = 1,2⋯,L$ is the number of orbitals/sites.\n",
        "- $\\sigma =\\{\\uparrow, \\downarrow\\}$ indicates the case when spins are different. Due to Fermi exclusion principle, a site can be occupied by spins of opposite spins.\n",
        "\n",
        "The tunneling term represents the kinetic energy of the lattice. Due to tunneling term, when spin in state $\\sigma$ is created at $j$-th site, another spin in the same state is annihilated at $j+1$-th site. It allows the spin conservation.\n"
      ],
      "metadata": {
        "id": "ixGRCdWv-YGq"
      }
    },
    {
      "cell_type": "code",
      "source": [
        "# Defining Fermi-Hubbard Model in OpenFermion\n",
        "\n",
        "nsites = 4\n",
        "U = 0.01\n",
        "J = 1.0\n",
        "\n",
        "hubbard = of.hamiltonians.fermi_hubbard(1,nsites,tunneling=-J,coulomb=U, periodic= False)"
      ],
      "metadata": {
        "id": "U-q86wm8-nmb"
      },
      "execution_count": null,
      "outputs": []
    },
    {
      "cell_type": "code",
      "source": [
        "hubbard.terms"
      ],
      "metadata": {
        "colab": {
          "base_uri": "https://localhost:8080/"
        },
        "id": "dcte3HOb7AFy",
        "outputId": "d639d662-a06b-47d7-d272-924ab141c9c7"
      },
      "execution_count": null,
      "outputs": [
        {
          "output_type": "execute_result",
          "data": {
            "text/plain": [
              "{((0, 1), (2, 0)): 1.0,\n",
              " ((2, 1), (0, 0)): 1.0,\n",
              " ((1, 1), (3, 0)): 1.0,\n",
              " ((3, 1), (1, 0)): 1.0,\n",
              " ((0, 1), (0, 0), (1, 1), (1, 0)): 0.01,\n",
              " ((2, 1), (4, 0)): 1.0,\n",
              " ((4, 1), (2, 0)): 1.0,\n",
              " ((3, 1), (5, 0)): 1.0,\n",
              " ((5, 1), (3, 0)): 1.0,\n",
              " ((2, 1), (2, 0), (3, 1), (3, 0)): 0.01,\n",
              " ((4, 1), (6, 0)): 1.0,\n",
              " ((6, 1), (4, 0)): 1.0,\n",
              " ((5, 1), (7, 0)): 1.0,\n",
              " ((7, 1), (5, 0)): 1.0,\n",
              " ((4, 1), (4, 0), (5, 1), (5, 0)): 0.01,\n",
              " ((6, 1), (6, 0), (7, 1), (7, 0)): 0.01}"
            ]
          },
          "metadata": {},
          "execution_count": 5
        }
      ]
    },
    {
      "cell_type": "markdown",
      "source": [
        "- The spatial sites are mapped to fermionic modes (like spin-orbit splitting). They are connected by:\n",
        "  $$N = 2L$$ where N is the number of fermionic modes and L is the number of spatial sites. i.e, each site is composed of one spin up fermionic mode and one spin down fermionic mode.\n",
        "\n",
        "  > **Note:** Here we implicitly assumed the spin of fermions to be $\\frac{1}{2}$, thus each sites will have a spin up and spin down modes. In essence the, number of sites and modes are related by number of spin states possible.\n",
        "\n",
        "- In the language of quantum simulations, to simulate a L site Hubbard model we require 2L qubits where each qubit correspond to a mode.\n",
        "\n",
        "- In the above example,\n",
        "  - modes \\{0,1\\} represents site 1\n",
        "  - modes \\{2,3\\} represents site 2\n",
        "  - modes \\{4,5\\} represents site 3\n",
        "  - modes \\{6,7\\} represents site 4\n",
        "\n",
        "- In the above hamiltonian terms:\n",
        "  - Term ((0, 1), (2, 0)) implies  a fermion is created in the site 1 and a fermion is annihilated at site 2. It essentially means that fermion hopped from site 2 to site 1. In the model considered, hopping occurs from $j+1$ to $j$, right to left.\n",
        "\n",
        "  - Term ((0, 1), (0, 0), (1, 1), (1, 0)) represents the onsite interaction energy of spins occupied in the site 1.\n",
        "  (0, 1), (0, 0) corresponds to number operator of up-spin and (1, 1), (1, 0) corresponds to number operator of down-spin."
      ],
      "metadata": {
        "id": "rfOc7dYDOp2Y"
      }
    },
    {
      "cell_type": "markdown",
      "source": [
        "## Time Evolution using FQE\n",
        "\n",
        "In this section we are going to do time evolution with **Fermionic Quantum Emulator (FQE)**, a specialized simulator by openfermion to simulate fermionic quantum systems.\n",
        "\n",
        "Let's assume the initial state to be a random state with two particle $S_z=0$ sector (total spin = 0, singlet state)."
      ],
      "metadata": {
        "id": "m3LbiFxcute-"
      }
    },
    {
      "cell_type": "code",
      "source": [
        "nele, sz = 2, 0\n",
        "init_wfn = fqe.Wavefunction([[nele,sz,nsites]])\n",
        "init_wfn.set_wfn(strategy=\"random\")"
      ],
      "metadata": {
        "id": "Iejs7wnnskHO"
      },
      "execution_count": null,
      "outputs": []
    },
    {
      "cell_type": "code",
      "source": [
        "init_wfn.print_wfn()"
      ],
      "metadata": {
        "colab": {
          "base_uri": "https://localhost:8080/"
        },
        "id": "3GOTDtmzwFfh",
        "outputId": "9a6efd74-8301-4880-d729-347d1f140464"
      },
      "execution_count": null,
      "outputs": [
        {
          "output_type": "stream",
          "name": "stdout",
          "text": [
            "Sector N = 2 : S_z = 0\n",
            "a'0001'b'0001' (-0.3015781982539815-0.17326724282843906j)\n",
            "a'0001'b'0010' (-0.0748360951307459-0.013106561970977235j)\n",
            "a'0001'b'0100' (0.05868287509753664-0.0005949948620982391j)\n",
            "a'0001'b'1000' (0.3214078664007357-0.2752648451275541j)\n",
            "a'0010'b'0001' (0.2271268043042858-0.07276482282322508j)\n",
            "a'0010'b'0010' (-0.10178952091147707+0.06697186441456113j)\n",
            "a'0010'b'0100' (0.24570997905045913+0.0763587161726591j)\n",
            "a'0010'b'1000' (0.051990081440134325+0.1209427799631717j)\n",
            "a'0100'b'0001' (0.0250973113868779-0.015553236479918055j)\n",
            "a'0100'b'0010' (0.06299062052315971-0.28204715090069205j)\n",
            "a'0100'b'0100' (-0.29345352386681833-0.15547362999718944j)\n",
            "a'0100'b'1000' (0.15953143735189595-0.05054711438059607j)\n",
            "a'1000'b'0001' (-0.13887194770893158-0.2551166450750501j)\n",
            "a'1000'b'0010' (0.026056459471780407-0.05746182410348805j)\n",
            "a'1000'b'0100' (-0.009089811955446017+0.26980698076236215j)\n",
            "a'1000'b'1000' (-0.17199498537854588+0.34926107844530146j)\n"
          ]
        }
      ]
    },
    {
      "cell_type": "markdown",
      "source": [
        "We prepared a random initial state of a wavefunction that spans 4 sites.\n",
        "\n",
        "- a'0001': This indicates that the spin-up electron (↑) is occupying the fourth site\n",
        "- b'0001': Similarly, this indicates that the spin-down electron (↓) is also occupying the fourth site.\n",
        "\n",
        "- The complex number represents amplitude such a configuration.\n",
        "\n"
      ],
      "metadata": {
        "id": "uWt2jy1VyaQa"
      }
    },
    {
      "cell_type": "code",
      "source": [
        "# time evolution\n",
        "\n",
        "%%time\n",
        "e_time = 0.9\n",
        "true_evolved_fqe = init_wfn.time_evolve(e_time,hubbard)"
      ],
      "metadata": {
        "colab": {
          "base_uri": "https://localhost:8080/"
        },
        "id": "irRRBdhrzGeN",
        "outputId": "3fbc6c5f-4be6-4d96-a6c2-ca3476645b37"
      },
      "execution_count": null,
      "outputs": [
        {
          "output_type": "stream",
          "name": "stdout",
          "text": [
            "CPU times: user 92.8 ms, sys: 344 µs, total: 93.1 ms\n",
            "Wall time: 107 ms\n"
          ]
        }
      ]
    },
    {
      "cell_type": "markdown",
      "source": [
        "\n",
        "  FQE converts Hamiltonian into dense Hamiltonian representation to perform time-evolution. The evolution approximately is accomplished by Taylor expansion method."
      ],
      "metadata": {
        "id": "gK5iFqhX1i3R"
      }
    },
    {
      "cell_type": "code",
      "source": [
        "# Comparing fqe time evolution with speed of direct matrix exponentiation:\n",
        "\n",
        "%%time\n",
        "\n",
        "init_cirq_wfn = fqe.to_cirq(init_wfn) # convert into vector form\n",
        "unitary = expm(-1j*e_time*of.get_sparse_operator(hubbard).todense())\n",
        "true_evolved_cirq = unitary @ init_cirq_wfn\n"
      ],
      "metadata": {
        "colab": {
          "base_uri": "https://localhost:8080/"
        },
        "id": "bfZE-lCVwNpO",
        "outputId": "c382136b-27f2-41df-ed99-6ec259ef3706"
      },
      "execution_count": null,
      "outputs": [
        {
          "output_type": "stream",
          "name": "stdout",
          "text": [
            "CPU times: user 302 ms, sys: 140 ms, total: 442 ms\n",
            "Wall time: 266 ms\n"
          ]
        }
      ]
    },
    {
      "cell_type": "code",
      "source": [
        "true_evolved_fqe.expectationValue(fqe.get_hamiltonian_from_openfermion(hubbard))"
      ],
      "metadata": {
        "colab": {
          "base_uri": "https://localhost:8080/"
        },
        "id": "LqhKwSjl22XP",
        "outputId": "c0796242-9256-4840-a791-cfeae6024b43"
      },
      "execution_count": null,
      "outputs": [
        {
          "output_type": "execute_result",
          "data": {
            "text/plain": [
              "(0.4562431772550703-2.7755575615628914e-17j)"
            ]
          },
          "metadata": {},
          "execution_count": 32
        }
      ]
    },
    {
      "cell_type": "code",
      "source": [
        "true_final_state = fqe.from_cirq(true_evolved_cirq, thresh=1e-12)\n",
        "true_final_state.print_wfn()"
      ],
      "metadata": {
        "colab": {
          "base_uri": "https://localhost:8080/"
        },
        "id": "mK4L_KIt4Wty",
        "outputId": "ac5df7b7-8485-4596-b870-bf021cfb3d7a"
      },
      "execution_count": null,
      "outputs": [
        {
          "output_type": "stream",
          "name": "stdout",
          "text": [
            "Sector N = 2 : S_z = 0\n",
            "a'0001'b'0001' (-0.13288446280265964+0.20522236914789782j)\n",
            "a'0001'b'0010' (-0.07297465695261485+0.23537324166549928j)\n",
            "a'0001'b'0100' (0.03292976015167248-0.0027618779248792247j)\n",
            "a'0001'b'1000' (0.21757146086763024-0.37324560657056016j)\n",
            "a'0010'b'0001' (-0.19895909437356385+0.1965463984206332j)\n",
            "a'0010'b'0010' (-0.019370507455977803+0.16912521153200447j)\n",
            "a'0010'b'0100' (-0.18350107240741464-0.04112306991108876j)\n",
            "a'0010'b'1000' (-0.0474656451696291-0.007334194756020993j)\n",
            "a'0100'b'0001' (0.09232024629934145-0.026670765264990355j)\n",
            "a'0100'b'0010' (0.24920080531747307-0.15084920461355197j)\n",
            "a'0100'b'0100' (-0.14507744596980493+0.04738174721320555j)\n",
            "a'0100'b'1000' (-0.0674044684956598-0.4349855399143071j)\n",
            "a'1000'b'0001' (-0.23004332738651637-0.12915907984784294j)\n",
            "a'1000'b'0010' (-0.11538646598386686-0.09134279224440274j)\n",
            "a'1000'b'0100' (-0.11142857877222659-0.22483728674072825j)\n",
            "a'1000'b'1000' (-0.23476233654083092-0.16252241300129197j)\n"
          ]
        }
      ]
    },
    {
      "cell_type": "code",
      "source": [
        "# checking the fidelity between final states of fqe evolution and exact diagonalization\n",
        "\n",
        "fidelity = abs(fqe.vdot(true_evolved_fqe,true_final_state))**2\n",
        "assert np.isclose(fidelity, 1.0)"
      ],
      "metadata": {
        "id": "HcgumN7L2yeZ"
      },
      "execution_count": null,
      "outputs": []
    },
    {
      "cell_type": "markdown",
      "source": [
        "### Conclusion\n",
        "\n",
        "- Even for small sites, FQE evolution is faster than direct matrix exponentiation.\n",
        "\n",
        "- Fidelity between final states in two approaches are closer to one."
      ],
      "metadata": {
        "id": "cyccCdXE46Wz"
      }
    },
    {
      "cell_type": "markdown",
      "source": [
        "# Trotterization for time evolution\n",
        "\n",
        "Trotterization approach involves the Hubbard Hamiltonian into Hopping Hamiltonian `one_body_terms` and Onsite Interaction (charge-charge interaction) Hamiltonian `two_body_terms`."
      ],
      "metadata": {
        "id": "G6cpDHqBUxcr"
      }
    },
    {
      "cell_type": "markdown",
      "source": [
        "## Splitting of Hubbard Hamiltonian"
      ],
      "metadata": {
        "id": "Puiuw2nJfZbU"
      }
    },
    {
      "cell_type": "code",
      "source": [
        "# construction of fermi-hubbard hamiltonian\n",
        "nqubits = 2*nsites # each site composed of two spins\n",
        "\n",
        "# hopping terms of the Hamiltonian\n",
        "one_body_terms = [op+of.hermitian_conjugated(op)\n",
        "                for op in (of.FermionOperator(((i,1),(i+2,0)), coefficient=J)\n",
        "                for i in range(nqubits-2))]\n",
        "\n",
        "# onsite interaction term of the Hamiltonian\n",
        "two_body_terms = [of.FermionOperator(((i,1),(i,0),(i+1,1),(i+1,0)),coefficient=U)\n",
        "                 for i in range(0,nqubits,2)]\n",
        "\n",
        "# verfiy this produces the same Hamiltonian from OpenFermion\n",
        "assert sum(one_body_terms)+sum(two_body_terms) == hubbard"
      ],
      "metadata": {
        "id": "x8V8Lq4D4GeC"
      },
      "execution_count": null,
      "outputs": []
    },
    {
      "cell_type": "code",
      "source": [
        "sum(one_body_terms)+sum(two_body_terms)"
      ],
      "metadata": {
        "colab": {
          "base_uri": "https://localhost:8080/"
        },
        "id": "kh5APglOWD6A",
        "outputId": "65640247-8de3-493e-937d-82f744698f59"
      },
      "execution_count": null,
      "outputs": [
        {
          "output_type": "execute_result",
          "data": {
            "text/plain": [
              "2.0 [0^ 0 1^ 1] +\n",
              "-1.0 [0^ 2] +\n",
              "-1.0 [1^ 3] +\n",
              "-1.0 [2^ 0] +\n",
              "2.0 [2^ 2 3^ 3] +\n",
              "-1.0 [2^ 4] +\n",
              "-1.0 [3^ 1] +\n",
              "-1.0 [3^ 5] +\n",
              "-1.0 [4^ 2] +\n",
              "2.0 [4^ 4 5^ 5] +\n",
              "-1.0 [4^ 6] +\n",
              "-1.0 [5^ 3] +\n",
              "-1.0 [5^ 7] +\n",
              "-1.0 [6^ 4] +\n",
              "2.0 [6^ 6 7^ 7] +\n",
              "-1.0 [7^ 5]"
            ]
          },
          "metadata": {},
          "execution_count": 13
        }
      ]
    },
    {
      "cell_type": "markdown",
      "source": [
        "## Evolution of the Hopping Hamiltonian"
      ],
      "metadata": {
        "id": "U-j9wP-EfVRm"
      }
    },
    {
      "cell_type": "markdown",
      "source": [
        "### Direct approach"
      ],
      "metadata": {
        "id": "uw0zmj8Jc0jM"
      }
    },
    {
      "cell_type": "code",
      "source": [
        "sparse_hopping_matrix = of.get_sparse_operator(sum(one_body_terms))\n",
        "unitary = expm(-1j*e_time*sparse_hopping_matrix.todense())\n",
        "evolved_cirq_wfn = unitary @ init_cirq_wfn"
      ],
      "metadata": {
        "id": "s9wktYoOXOCF"
      },
      "execution_count": null,
      "outputs": []
    },
    {
      "cell_type": "markdown",
      "source": [
        "### Givens Rotation to evolve Hopping Term\n",
        "\n",
        "FQE can uses approximate methods to evolve the Hopping Hamiltonian. First of let's look into the matrix form of the Hopping Hamiltonian:"
      ],
      "metadata": {
        "id": "JafX0_BPdAJq"
      }
    },
    {
      "cell_type": "code",
      "source": [
        "hopping_matrix = J*(np.diag([1]*(nsites-1),k=1) + np.diag([1]*(nsites-1),k=-1))\n",
        "print(hopping_matrix)"
      ],
      "metadata": {
        "colab": {
          "base_uri": "https://localhost:8080/"
        },
        "id": "ofjfuX1LbnKp",
        "outputId": "368e9d98-a53c-4757-fc49-3806a9917526"
      },
      "execution_count": null,
      "outputs": [
        {
          "output_type": "stream",
          "name": "stdout",
          "text": [
            "[[-0. -1. -0. -0.]\n",
            " [-1. -0. -1. -0.]\n",
            " [-0. -1. -0. -1.]\n",
            " [-0. -0. -1. -0.]]\n"
          ]
        }
      ]
    },
    {
      "cell_type": "markdown",
      "source": [
        "- `np.diag([1]*(nsites-1),k=1)` superdiagonal elements.\n",
        "- `np.diag([1]*(nsites-1),k=-1)` subdiagonal elements."
      ],
      "metadata": {
        "id": "zgnrSJS9ePY6"
      }
    },
    {
      "cell_type": "markdown",
      "source": [
        "The matrix is symmetric, sparse and have only real entries. These matrices are ideal to be decomposed using Givens rotation.\n",
        "\n",
        "**Givens Rotation** are used to decompose the Hamiltonian into a product of two-dimensional rotations, each acting on a pair of qubits or orbitals. This decomposition allows you to apply the time evolution operator in a piecewise fashion, evolving the wavefunction incrementally.\n",
        "\n",
        "Using Givens Rotation helps to find the evolved state without direct exponentiation. FQE have function called `evolve_fqe_givens` which the approximate evolution of initial state through **Givens Rotation**."
      ],
      "metadata": {
        "id": "poZyHpYsgGQa"
      }
    },
    {
      "cell_type": "code",
      "source": [
        "from fqe.algorithm.low_rank import evolve_fqe_givens\n",
        "\n",
        "umat = expm(-1j*e_time*hopping_matrix)\n",
        "evolved_wfn = evolve_fqe_givens(init_wfn,umat)"
      ],
      "metadata": {
        "id": "qCWIUAU-iHAl"
      },
      "execution_count": null,
      "outputs": []
    },
    {
      "cell_type": "code",
      "source": [
        "# checking the fidelity\n",
        "\n",
        "fidelity = abs(fqe.vdot(evolved_wfn, fqe.from_cirq(evolved_cirq_wfn,thresh=1e-6)))**2\n",
        "assert np.isclose(fidelity,1.0)"
      ],
      "metadata": {
        "id": "GmOIL20yiFRW"
      },
      "execution_count": null,
      "outputs": []
    },
    {
      "cell_type": "markdown",
      "source": [
        "## Evolution of the Onsite Interaction Term"
      ],
      "metadata": {
        "id": "YlgWCHL7eg6P"
      }
    },
    {
      "cell_type": "markdown",
      "source": [
        "### Direct Approach"
      ],
      "metadata": {
        "id": "Ke8ibZETe-5C"
      }
    },
    {
      "cell_type": "code",
      "source": [
        "sparse_interaction_matrix = of.get_sparse_operator(sum(two_body_terms))\n",
        "unitary = expm(-1j*e_time*sparse_interaction_matrix.todense())\n",
        "evolved_wfn = unitary @ init_cirq_wfn\n",
        "evolved_cirq_wfn = fqe.from_cirq(evolved_wfn, thresh=1e-6)"
      ],
      "metadata": {
        "id": "jRxg7mVTds2y"
      },
      "execution_count": null,
      "outputs": []
    },
    {
      "cell_type": "markdown",
      "source": [
        "### Evolution using approximate methods in FQE\n",
        "\n",
        "We use this to perform time-evolution with the `evolve_fqe_charge_charge_alpha_beta` function. This function applies\n",
        "\n",
        "\n",
        "$$\\exp\\left(-i t \\sum_{i,j} v_{i, j} n_{i, \\alpha} n_{j, \\beta} \\right)$$\n",
        "\n",
        "for any coefficients $v_{i,j}$ to the wavefunction.\n",
        "\n",
        "Representing the exponential in this form allow to perform low rank approximation of matrix (for eg: trotter decomposition), which allow efficient calculations. Further, we only need to store $v_{j,j}$ values which are not equal to zero.\n"
      ],
      "metadata": {
        "id": "PQcvuHuofwOK"
      }
    },
    {
      "cell_type": "code",
      "source": [
        "interaction_matrix = np.diag([U]*nsites)\n",
        "print(interaction_matrix) # diagonal matrix"
      ],
      "metadata": {
        "colab": {
          "base_uri": "https://localhost:8080/"
        },
        "id": "uBbYfTYylMQ5",
        "outputId": "9c6ddb3b-ecca-49d8-ecca-fcc8c88765ce"
      },
      "execution_count": null,
      "outputs": [
        {
          "output_type": "stream",
          "name": "stdout",
          "text": [
            "[[2. 0. 0. 0.]\n",
            " [0. 2. 0. 0.]\n",
            " [0. 0. 2. 0.]\n",
            " [0. 0. 0. 2.]]\n"
          ]
        }
      ]
    },
    {
      "cell_type": "code",
      "source": [
        "from fqe.algorithm.low_rank import evolve_fqe_charge_charge_alpha_beta\n",
        "\n",
        "evolved_fqe_wfn = evolve_fqe_charge_charge_alpha_beta(init_wfn,\n",
        "                                                      interaction_matrix,\n",
        "                                                      e_time)"
      ],
      "metadata": {
        "id": "7rV2Tu6yfmmb"
      },
      "execution_count": null,
      "outputs": []
    },
    {
      "cell_type": "code",
      "source": [
        "# Checking the fidelity\n",
        "\n",
        "fidelity = abs(fqe.vdot(evolved_fqe_wfn,evolved_cirq_wfn))**2\n",
        "print(fidelity)\n"
      ],
      "metadata": {
        "colab": {
          "base_uri": "https://localhost:8080/"
        },
        "id": "Yex8PDhylHSU",
        "outputId": "14f3d4dd-b4c3-4b4e-823f-5fb3b84475f1"
      },
      "execution_count": null,
      "outputs": [
        {
          "output_type": "stream",
          "name": "stdout",
          "text": [
            "1.0\n"
          ]
        }
      ]
    },
    {
      "cell_type": "markdown",
      "source": [
        "## Trotterized Evolution of Hubbard Model"
      ],
      "metadata": {
        "id": "Z-8px71gnPJn"
      }
    },
    {
      "cell_type": "code",
      "source": [
        "trotter_steps = 10\n",
        "umat = expm(-1j*(e_time/trotter_steps)*hopping_matrix)\n",
        "\n",
        "current_wfn = copy.deepcopy(init_wfn)\n",
        "for _ in range(trotter_steps):\n",
        "  current_wfn = evolve_fqe_givens(current_wfn,  u=umat)\n",
        "  current_wfn = evolve_fqe_charge_charge_alpha_beta(\n",
        "        current_wfn,\n",
        "        interaction_matrix,\n",
        "        e_time / trotter_steps,\n",
        "    )\n",
        "\n",
        "\n",
        "trotterized_fidelity = abs(fqe.vdot(true_evolved_fqe, current_wfn))**2\n",
        "print(\"Trotterized fidelity:\", trotterized_fidelity)\n"
      ],
      "metadata": {
        "colab": {
          "base_uri": "https://localhost:8080/"
        },
        "id": "woQw3HLsmGLG",
        "outputId": "635bea4f-660f-46ee-d1ec-678d36103c71"
      },
      "execution_count": null,
      "outputs": [
        {
          "output_type": "stream",
          "name": "stdout",
          "text": [
            "Trotterized fidelity: 0.998143092806837\n"
          ]
        }
      ]
    },
    {
      "cell_type": "code",
      "source": [],
      "metadata": {
        "id": "aMkJGq3qpmRs"
      },
      "execution_count": null,
      "outputs": []
    }
  ]
}