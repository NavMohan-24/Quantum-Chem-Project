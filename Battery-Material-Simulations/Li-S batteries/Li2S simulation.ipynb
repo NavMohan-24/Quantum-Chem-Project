{
 "cells": [
  {
   "cell_type": "code",
   "execution_count": null,
   "metadata": {},
   "outputs": [],
   "source": [
    "# Import necessary libraries and packages\n",
    "import math\n",
    "import matplotlib.pyplot as plt\n",
    "import numpy as np\n",
    "import time\n",
    "import warnings\n",
    "warnings.filterwarnings('ignore')\n",
    "\n",
    "from qiskit import Aer, IBMQ, QuantumCircuit\n",
    "from qiskit.primitives import Estimator\n",
    "from qiskit.providers.aer import StatevectorSimulator\n",
    "from qiskit.utils import QuantumInstance\n",
    "import qiskit.providers as providers\n",
    "#from qiskit import provider\n",
    "from qiskit.tools.jupyter import *\n",
    "from qiskit.visualization import *\n",
    "\n",
    "# Import Qiskit libraries for VQE\n",
    "from qiskit.algorithms import MinimumEigensolverResult, VQE\n",
    "from qiskit.algorithms.optimizers import SLSQP, SPSA\n",
    "\n",
    "# Import Qiskit Nature libraries\n",
    "from qiskit_nature.algorithms import GroundStateEigensolver, VQEUCCFactory\n",
    "from qiskit_nature.algorithms.ground_state_solvers.minimum_eigensolver_factories import NumPyMinimumEigensolverFactory\n",
    "from qiskit_nature.circuit.library import UCC, UCCSD, HartreeFock\n",
    "from qiskit_nature.drivers import Molecule\n",
    "from qiskit_nature.drivers.second_quantization import ElectronicStructureDriverType, ElectronicStructureMoleculeDriver\n",
    "from qiskit_nature.converters.second_quantization import QubitConverter\n",
    "from qiskit_nature.mappers.second_quantization import BravyiKitaevMapper, JordanWignerMapper, ParityMapper\n",
    "from qiskit_nature.problems.second_quantization.electronic import ElectronicStructureProblem\n",
    "from qiskit_nature.transformers.second_quantization.electronic import ActiveSpaceTransformer,FreezeCoreTransformer\n",
    "from qiskit.utils import algorithm_globals\n",
    "from qiskit.algorithms.eigensolvers import VQD\n",
    "from qiskit.algorithms.state_fidelities import ComputeUncompute\n",
    "from qiskit.primitives import Sampler, Estimator\n",
    "from qiskit.algorithms.optimizers import COBYLA, L_BFGS_B\n",
    "from qiskit import IBMQ"
   ]
  },
  {
   "cell_type": "code",
   "execution_count": null,
   "metadata": {},
   "outputs": [],
   "source": [
    "provider = IBMQ.load_account()\n",
    "#backend = provider.get_backend('ibmq_qasm_simulator')\n",
    "backend = Aer.get_backend('aer_simulator')\n",
    "#qi = QuantumInstance(backend=backend,shots = 10000, seed_simulator=10)"
   ]
  },
  {
   "cell_type": "code",
   "execution_count": null,
   "metadata": {},
   "outputs": [],
   "source": [
    "def dipole_moment(cyclic,charge,mult):\n",
    "\n",
    "  algorithm_globals.random_seed = 1024\n",
    "  algorithm_globals.massive=True \n",
    "\n",
    "  molecule = Molecule(geometry=cyclic,\n",
    "                              charge=charge, \n",
    "                              multiplicity=mult)\n",
    "  ### Defining the driver\n",
    "  driver = ElectronicStructureMoleculeDriver(molecule, basis=\"sto3g\", driver_type=ElectronicStructureDriverType.PYSCF) # This is an example of using STO-3G basis set, and performing preliminary Quantum Chemistry calculation using PySCF\n",
    "  \n",
    "  problem_reduced = ElectronicStructureProblem(driver, [FreezeCoreTransformer(freeze_core=True)])\n",
    "  second_q_ops_reduced = problem_reduced.second_q_ops()\n",
    "\n",
    "  # Set the mapper to qubits\n",
    "  mapper = JordanWignerMapper() # This is the example of parity mapping\n",
    "\n",
    "  # Set the qubit converter with two qubit reduction to reduce the computational cost \n",
    "  converter = QubitConverter(mapper,z2symmetry_reduction='auto')    \n",
    "\n",
    "  # Compute the Hamitonian in qubit form\n",
    "  qubit_op_parity = converter.convert(second_q_ops_reduced.get('ElectronicEnergy'), sector_locator=problem_reduced.symmetry_sector_locator)\n",
    "\n",
    "  init_state = HartreeFock(num_spin_orbitals=problem_reduced.num_spin_orbitals, num_particles=problem_reduced.num_particles , qubit_converter= converter)\n",
    "\n",
    "  vqe_factory = VQEUCCFactory(quantum_instance=backend,optimizer=SPSA(maxiter=50),ansatz=UCC(qubit_converter=converter, num_particles=problem_reduced.num_particles,num_spin_orbitals=problem_reduced.num_spin_orbitals,excitations='sd', initial_state=init_state)) # This is an example of UCC\"SD\" ansatz\n",
    "\n",
    "  solver = GroundStateEigensolver(converter, vqe_factory)\n",
    "   \n",
    "  result = solver.solve(problem_reduced)    \n",
    "\n",
    "  dip_tot = result.total_dipole_moment_in_debye[0]\n",
    "  min_energy = result.total_energies[0]\n",
    "\n",
    "  return dip_tot,min_energy"
   ]
  },
  {
   "cell_type": "code",
   "execution_count": null,
   "metadata": {},
   "outputs": [],
   "source": [
    "dip = []\n",
    "Energy =[]\n",
    "dist =  np.linspace(1,4,7)\n",
    "Charge = 0\n",
    "Multiplicity = 1\n",
    "\n",
    "for i in dist:\n",
    "    cyclic = [[\"Li\",[0.000,1.9748,-0.5280]],\n",
    "          [\"S\",[0.0000,0.000,0.1980]],\n",
    "          [\"Li\",[0.0000,-i,-0.5280]]]\n",
    "    dipole,energy = dipole_moment(cyclic,Charge,Multiplicity)\n",
    "    Energy.append(energy)\n",
    "    dip.append(dipole)\n",
    "    print('Dipole (debye) for '+str(i)+' : ', dipole)\n",
    "    print('Energy : ', energy)"
   ]
  },
  {
   "cell_type": "code",
   "execution_count": null,
   "metadata": {},
   "outputs": [],
   "source": [
    "dist = np.linspace(1,4,7)\n",
    "bond_length=[np.sqrt(i**2+(0.1980+0.5280)**2) for i in dist]"
   ]
  },
  {
   "cell_type": "code",
   "execution_count": null,
   "metadata": {},
   "outputs": [],
   "source": [
    "plt.plot(bond_length, Energy, '-o')\n",
    "plt.savefig('energy_JWT_Z2_Li2S.png')\n"
   ]
  },
  {
   "cell_type": "code",
   "execution_count": null,
   "metadata": {},
   "outputs": [],
   "source": []
  }
 ],
 "metadata": {
  "kernelspec": {
   "display_name": "demo",
   "language": "python",
   "name": "python3"
  },
  "language_info": {
   "codemirror_mode": {
    "name": "ipython",
    "version": 3
   },
   "file_extension": ".py",
   "mimetype": "text/x-python",
   "name": "python",
   "nbconvert_exporter": "python",
   "pygments_lexer": "ipython3",
   "version": "3.10.9"
  },
  "orig_nbformat": 4,
  "vscode": {
   "interpreter": {
    "hash": "ab99165566be80e26ccb82efb6adbe2cfc6c62251cc7af4b379f4b532ee91a3e"
   }
  }
 },
 "nbformat": 4,
 "nbformat_minor": 2
}
