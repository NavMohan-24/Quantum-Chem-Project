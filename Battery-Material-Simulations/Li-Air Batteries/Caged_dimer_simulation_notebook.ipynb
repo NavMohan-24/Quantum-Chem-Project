{
 "cells": [
  {
   "cell_type": "code",
   "execution_count": null,
   "id": "87096254-2c86-4e06-9768-240c1a789ff9",
   "metadata": {
    "tags": []
   },
   "outputs": [],
   "source": [
    "import math\n",
    "import matplotlib.pyplot as plt\n",
    "import numpy as np\n",
    "\n",
    "from qiskit_nature.units import DistanceUnit\n",
    "from qiskit_nature.second_q.drivers import PySCFDriver\n",
    "from qiskit_nature.second_q.problems import ElectronicStructureProblem\n",
    "from qiskit_nature.second_q.mappers import QubitConverter\n",
    "from qiskit_nature.second_q.mappers import ParityMapper\n",
    "from qiskit_nature.second_q.properties import ParticleNumber\n",
    "from qiskit_nature.second_q.transformers import ActiveSpaceTransformer,FreezeCoreTransformer\n",
    "\n",
    "from qiskit.circuit.library import TwoLocal\n",
    "from qiskit_nature.second_q.circuit.library.ansatzes import UCC,UCCSD\n",
    "from qiskit_nature.second_q.circuit.library.initial_states import HartreeFock\n",
    "\n",
    "from qiskit import Aer, IBMQ, QuantumCircuit\n",
    "from qiskit.algorithms.optimizers import SPSA, L_BFGS_B, CG\n",
    "from qiskit_nature.second_q.algorithms.ground_state_solvers import GroundStateEigensolver\n",
    "from qiskit_nature.runtime import VQEClient\n",
    "\n",
    "from qiskit_nature.second_q.algorithms import GroundStateEigensolver, VQEUCCFactory\n",
    "from qiskit.primitives import Estimator\n",
    "estimator=Estimator()\n"
   ]
  },
  {
   "cell_type": "code",
   "execution_count": null,
   "id": "dca3211f-f3ee-436a-b8db-b5b7e0bbaac4",
   "metadata": {},
   "outputs": [],
   "source": [
    "from custom_vqe import CustomVQEClient"
   ]
  },
  {
   "cell_type": "code",
   "execution_count": null,
   "id": "6534d2c0-b82c-47a1-901a-071b6613b057",
   "metadata": {
    "tags": []
   },
   "outputs": [],
   "source": [
    "IBMQ.load_account()\n",
    "provider = IBMQ.get_provider(hub='ibm-q', group='open', project='main')\n",
    "backend = provider.get_backend('ibmq_belem')\n",
    "#backend = provider.get_backend(\"simulator_statevector\")"
   ]
  },
  {
   "cell_type": "code",
   "execution_count": null,
   "id": "d5fa59eb-0f9a-42ae-9fac-6e0ce43d1476",
   "metadata": {
    "tags": []
   },
   "outputs": [],
   "source": [
    "list=[]\n",
    "for i in range (0,18):\n",
    "    list.append(i)\n",
    "for i in range (20,84):\n",
    "    list.append(i)\n",
    "print(list)"
   ]
  },
  {
   "cell_type": "code",
   "execution_count": null,
   "id": "0280fabd-5043-45dd-b549-b7f26f22691b",
   "metadata": {
    "tags": []
   },
   "outputs": [],
   "source": [
    "driver = PySCFDriver(\n",
    "    atom=f\"Li -1.1078401577 -0.8577246882 0; O -1.0234353284 0.9414724835 0.6763317338 ;O -1.0234353284 0.9414724835 -0.6763317338;Li 0.7643388112 1.1726529885 0;O 0.6446624160 -1.5014307022 0;O 1.5512290069 -0.5181392215 0\",\n",
    "    basis=\" 6-31G(d,p) \",\n",
    "    charge=0,\n",
    "    spin=0,\n",
    "    unit=DistanceUnit.ANGSTROM,\n",
    "    )\n",
    "# Electronic Structure problem is constructed by runing the driver\n",
    "problem = driver.run()\n",
    "# specify active space transformation\n",
    "transformer = FreezeCoreTransformer(freeze_core=True,remove_orbitals=list)\n",
    "problem_reduced = transformer.transform(problem)\n",
    "second_q_ops_reduced = problem_reduced.second_q_ops()\n",
    "qubit_converter = QubitConverter(ParityMapper(), two_qubit_reduction=True)\n",
    "num_spin_orbitals = problem_reduced.num_spin_orbitals\n",
    "num_particles = problem_reduced.num_particles\n",
    "\n",
    "qubit_op = qubit_converter.convert(second_q_ops_reduced[0], num_particles=problem_reduced.num_particles)\n",
    "ansatz=UCC(num_spatial_orbitals=problem_reduced.num_spatial_orbitals , num_particles= num_particles,excitations='sd',qubit_converter=qubit_converter)"
   ]
  },
  {
   "cell_type": "code",
   "execution_count": null,
   "id": "e16aaa1c-103e-472c-8ea7-ce18a07dbd47",
   "metadata": {
    "tags": []
   },
   "outputs": [],
   "source": [
    "ansatz.decompose().draw()"
   ]
  },
  {
   "cell_type": "code",
   "execution_count": null,
   "id": "f945f980-77a4-4055-ab98-aade418bcbf6",
   "metadata": {
    "tags": []
   },
   "outputs": [],
   "source": [
    "init_state = HartreeFock(2, num_particles, qubit_converter)"
   ]
  },
  {
   "cell_type": "code",
   "execution_count": null,
   "id": "d6a4945d-c59d-4df5-a29b-7800b66ab7ba",
   "metadata": {
    "tags": []
   },
   "outputs": [],
   "source": [
    "#minimum energy calculation using VQEUCCFactory\n",
    "vqe_factory = VQEUCCFactory(estimator,optimizer= CG(maxiter=500),ansatz= UCC(excitations='sd'))#,initial_state=init_state) # This is an example of UCC\"SD\" ansatz\n",
    "solver = GroundStateEigensolver(qubit_converter, vqe_factory)    \n",
    "result = solver.solve(problem_reduced)  \n",
    "min_energy = result.total_energies[0]\n",
    "print(min_energy)"
   ]
  },
  {
   "cell_type": "code",
   "execution_count": null,
   "id": "dc2fb88e-4138-4fe8-9133-32994307a2e8",
   "metadata": {
    "tags": []
   },
   "outputs": [],
   "source": [
    "optimizer= SPSA(maxiter=500)\n",
    "initial_point = np.random.random(ansatz.num_parameters)"
   ]
  },
  {
   "cell_type": "code",
   "execution_count": null,
   "id": "81a6979a-57dc-4899-986a-66d068dd666a",
   "metadata": {
    "tags": []
   },
   "outputs": [],
   "source": [
    "#minimum energy calculation using CustomVQEClient\n",
    "runtime_vqe = CustomVQEClient(\n",
    "                          ansatz=ansatz,\n",
    "                          optimizer=optimizer,\n",
    "                          initial_point=initial_point,\n",
    "                          provider=provider,\n",
    "                          backend=backend,\n",
    "                          shots=1024, \n",
    "                     )"
   ]
  },
  {
   "cell_type": "code",
   "execution_count": null,
   "id": "2f134f01-8015-48cd-b897-33bc2e633db0",
   "metadata": {
    "tags": []
   },
   "outputs": [],
   "source": [
    "runtime_vqe_groundstate_solver = GroundStateEigensolver(qubit_converter, runtime_vqe)\n",
    "op,po=runtime_vqe_groundstate_solver.get_qubit_operators(problem_reduced)\n",
    "joob=runtime_vqe.send_jobs(op,po)\n",
    "print(joob)"
   ]
  },
  {
   "cell_type": "code",
   "execution_count": null,
   "id": "bbe6de21-a26d-43fa-8b33-b42d806e7d16",
   "metadata": {
    "tags": []
   },
   "outputs": [],
   "source": [
    "res1=runtime_vqe.compute_result(joob,problem_reduced,op,po)\n",
    "Energy=res1.total_energies[0]\n",
    "print(Energy)"
   ]
  },
  {
   "cell_type": "markdown",
   "id": "2032daa8-26a2-4629-8d59-87dc3c572821",
   "metadata": {},
   "source": [
    "Real Backend Simulation using Ry ansatz"
   ]
  },
  {
   "cell_type": "code",
   "execution_count": null,
   "id": "19cd58f9-1694-434e-ba44-f113e3c10645",
   "metadata": {
    "tags": []
   },
   "outputs": [],
   "source": [
    "optimizer= SPSA(maxiter=500)"
   ]
  },
  {
   "cell_type": "code",
   "execution_count": null,
   "id": "6517455d-cebd-46a3-98e9-06473f4bc50a",
   "metadata": {},
   "outputs": [],
   "source": [
    "from qiskit import IBMQ, QuantumCircuit, transpile\n",
    "from qiskit.circuit import Parameter\n",
    "qc_p = QuantumCircuit(2)\n",
    "theta1=Parameter('θ1')\n",
    "theta2=Parameter('θ2')\n",
    "theta3=Parameter('θ3')\n",
    "theta4=Parameter('θ4')\n",
    "qc_p.ry(theta1,0)\n",
    "qc_p.ry(theta2,1)\n",
    "qc_p.h(1)\n",
    "qc_p.cx(0, 1)\n",
    "qc_p.h(1)\n",
    "qc_p.ry(theta3,0)\n",
    "qc_p.ry(theta4,1)\n",
    "qc_p.draw()"
   ]
  },
  {
   "cell_type": "code",
   "execution_count": null,
   "id": "e2504aa0-6a84-4796-ba27-e430b686b6fb",
   "metadata": {
    "tags": []
   },
   "outputs": [],
   "source": [
    "initial_point = np.random.random(qc_p.num_parameters)"
   ]
  },
  {
   "cell_type": "code",
   "execution_count": null,
   "id": "c7d7edf7-c827-418a-afff-30b368251816",
   "metadata": {
    "tags": []
   },
   "outputs": [],
   "source": [
    "counts = []\n",
    "values = []\n",
    "\n",
    "def store(eval_count, parameters, mean, std):\n",
    "    counts.append(eval_count)\n",
    "    values.append(mean)"
   ]
  },
  {
   "cell_type": "code",
   "execution_count": null,
   "id": "35ff0a7c-ae29-4358-a96f-53398d429d50",
   "metadata": {
    "tags": []
   },
   "outputs": [],
   "source": [
    "runtime_vqe = VQEClient1(\n",
    "                          ansatz=qc_p,\n",
    "                          optimizer=optimizer,\n",
    "                          initial_point=initial_point,\n",
    "                          provider=provider,\n",
    "                          backend=backend,\n",
    "                          shots=1024,\n",
    "                          callback= store,\n",
    "                          store_intermediate = False, \n",
    "                         )\n"
   ]
  },
  {
   "cell_type": "code",
   "execution_count": null,
   "id": "31a11c3c-e9d2-4a53-bc9f-dd86801896ea",
   "metadata": {
    "tags": []
   },
   "outputs": [],
   "source": [
    "runtime_vqe_groundstate_solver = GroundStateEigensolver(qubit_converter, runtime_vqe)\n",
    "op,po=runtime_vqe_groundstate_solver.get_qubit_operators(problem_reduced)\n",
    "joob=runtime_vqe.send_jobs(op,po)\n",
    "print(joob)"
   ]
  },
  {
   "cell_type": "code",
   "execution_count": null,
   "id": "c96806cd-ebbe-42dd-a6d0-5a56e503898c",
   "metadata": {
    "tags": []
   },
   "outputs": [],
   "source": [
    "res1=runtime_vqe.compute_result(joob,problem_reduced,op,po)\n",
    "Energy=res1.total_energies[0]\n",
    "print(Energy)"
   ]
  },
  {
   "cell_type": "code",
   "execution_count": null,
   "id": "b8f4ace8-d418-4b27-a70e-f71d6f68b7d2",
   "metadata": {
    "tags": []
   },
   "outputs": [],
   "source": [
    "print(res1)\n"
   ]
  }
 ],
 "metadata": {
  "kernelspec": {
   "display_name": "Python 3 (ipykernel)",
   "language": "python",
   "name": "python3"
  },
  "language_info": {
   "codemirror_mode": {
    "name": "ipython",
    "version": 3
   },
   "file_extension": ".py",
   "mimetype": "text/x-python",
   "name": "python",
   "nbconvert_exporter": "python",
   "pygments_lexer": "ipython3",
   "version": "3.10.8"
  },
  "widgets": {
   "application/vnd.jupyter.widget-state+json": {
    "state": {},
    "version_major": 2,
    "version_minor": 0
   }
  }
 },
 "nbformat": 4,
 "nbformat_minor": 5
}
