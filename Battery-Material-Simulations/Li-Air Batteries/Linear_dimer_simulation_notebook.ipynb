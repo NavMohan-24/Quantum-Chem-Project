{
 "cells": [
  {
   "cell_type": "code",
   "execution_count": null,
   "id": "97e02e8d-4374-4276-8f0b-45667f695ccb",
   "metadata": {
    "tags": []
   },
   "outputs": [],
   "source": [
    "import math\n",
    "import matplotlib.pyplot as plt\n",
    "import numpy as np\n",
    "\n",
    "from qiskit_nature.units import DistanceUnit\n",
    "from qiskit_nature.second_q.drivers import PySCFDriver\n",
    "from qiskit_nature.second_q.problems import ElectronicStructureProblem\n",
    "from qiskit_nature.second_q.mappers import QubitConverter\n",
    "from qiskit_nature.second_q.mappers import ParityMapper\n",
    "from qiskit_nature.second_q.properties import ParticleNumber\n",
    "from qiskit_nature.second_q.transformers import ActiveSpaceTransformer,FreezeCoreTransformer\n",
    "\n",
    "from qiskit.circuit.library import TwoLocal,EfficientSU2\n",
    "from qiskit_nature.second_q.circuit.library.ansatzes import UCC,UCCSD\n",
    "from qiskit_nature.second_q.circuit.library.initial_states import HartreeFock\n",
    "\n",
    "from qiskit import Aer, IBMQ, QuantumCircuit\n",
    "from qiskit.algorithms.optimizers import SPSA, L_BFGS_B, CG\n",
    "from qiskit_nature.second_q.algorithms.ground_state_solvers import GroundStateEigensolver\n",
    "from qiskit_nature.runtime import VQEClient\n",
    "\n",
    "from qiskit_nature.second_q.algorithms import GroundStateEigensolver, VQEUCCFactory\n",
    "from qiskit.primitives import Estimator\n",
    "estimator=Estimator()\n"
   ]
  },
  {
   "cell_type": "code",
   "execution_count": null,
   "id": "6b4b8670-f015-4428-b469-7a1979f2336d",
   "metadata": {
    "tags": []
   },
   "outputs": [],
   "source": [
    "from custom_vqe import CustomVQEClient"
   ]
  },
  {
   "cell_type": "code",
   "execution_count": null,
   "id": "1a747df9-8093-4b7a-b2e3-e140cf49305e",
   "metadata": {
    "tags": []
   },
   "outputs": [],
   "source": [
    "list=[]\n",
    "for i in range (0,18):\n",
    "    list.append(i)\n",
    "for i in range (20,84):\n",
    "    list.append(i)\n",
    "print(list)"
   ]
  },
  {
   "cell_type": "code",
   "execution_count": null,
   "id": "883faf80-7f8b-41ff-8510-c2938d638a7d",
   "metadata": {
    "tags": []
   },
   "outputs": [],
   "source": [
    "driver = PySCFDriver(\n",
    "    atom=f\"Li -0.0000000000 0.0000000000 -3.1070698181 ; O -0.7347171102 -0.0000000000 -1.5079688529 ;O 0.7347171102 0.0000000000 -1.5079688529  ;Li 0.0000000000 0.0000000000 0.1515802566;O 0.6319228170 0.0000000000 2.1517114230 ;O -0.6319228170 -0.0000000000 2.1517114230 \",\n",
    "    basis=\" 6-31G(d,p) \",\n",
    "    charge=0,\n",
    "    spin=0,\n",
    "    unit=DistanceUnit.ANGSTROM,\n",
    "    )\n",
    "# Electronic Structure problem is constructed by runing the driver\n",
    "problem = driver.run()\n",
    "# specify active space transformation\n",
    "#transformer = ActiveSpaceTransformer(num_electrons=(1,1), num_spatial_orbitals=2,active_orbitals=[18,19])\n",
    "transformer = FreezeCoreTransformer(freeze_core=True,remove_orbitals=list)\n",
    "problem_reduced = transformer.transform(problem)\n",
    "second_q_ops_reduced = problem_reduced.second_q_ops()\n",
    "qubit_converter = QubitConverter(ParityMapper(), two_qubit_reduction=True)\n",
    "num_spin_orbitals = problem_reduced.num_spin_orbitals\n",
    "num_particles = problem_reduced.num_particles\n",
    "\n",
    "qubit_op = qubit_converter.convert(second_q_ops_reduced[0], num_particles=problem_reduced.num_particles)\n",
    "ansatz=UCC(num_spatial_orbitals=problem_reduced.num_spatial_orbitals , num_particles= num_particles,excitations='sd',qubit_converter=qubit_converter)"
   ]
  },
  {
   "cell_type": "code",
   "execution_count": null,
   "id": "d54e12e9-d0d7-426c-8d80-65ff264fa3f4",
   "metadata": {
    "tags": []
   },
   "outputs": [],
   "source": [
    "ansatz.decompose().draw()"
   ]
  },
  {
   "cell_type": "code",
   "execution_count": null,
   "id": "ab757b6b-2a8d-41e7-9145-a2d370f0395c",
   "metadata": {
    "tags": []
   },
   "outputs": [],
   "source": [
    "init_state = HartreeFock(2, num_particles, qubit_converter)"
   ]
  },
  {
   "cell_type": "code",
   "execution_count": null,
   "id": "4915ca7e-05fa-4bff-8e87-381d71551bc4",
   "metadata": {
    "tags": []
   },
   "outputs": [],
   "source": [
    "#Energy using VQEUCCFactory\n",
    "vqe_factory = VQEUCCFactory(estimator,optimizer= CG(maxiter=500),ansatz= UCC(excitations='sd'))# This is an example of UCC\"SD\" ansatz\n",
    "solver = GroundStateEigensolver(qubit_converter, vqe_factory)    \n",
    "result = solver.solve(problem_reduced)  \n",
    "min_energy = result.total_energies[0]\n",
    "print(min_energy)"
   ]
  },
  {
   "cell_type": "markdown",
   "id": "b33e0329-904f-4639-8a3d-394e7bdf77fe",
   "metadata": {},
   "source": [
    "Using CustomVQEClient"
   ]
  },
  {
   "cell_type": "code",
   "execution_count": null,
   "id": "0cbf319c-9b45-44d1-a336-a3464796b4d2",
   "metadata": {
    "tags": []
   },
   "outputs": [],
   "source": [
    "IBMQ.load_account()\n",
    "provider = IBMQ.get_provider(hub='ibm-q', group='open', project='main')\n",
    "#backend = provider.get_backend('ibmq_quito')\n",
    "backend = provider.get_backend(\"simulator_statevector\")"
   ]
  },
  {
   "cell_type": "code",
   "execution_count": null,
   "id": "515eff35-5835-4f00-8d2e-6a78a97458c0",
   "metadata": {
    "tags": []
   },
   "outputs": [],
   "source": [
    "from qiskit import IBMQ, QuantumCircuit, transpile\n",
    "from qiskit.circuit import Parameter\n",
    "qc_p = QuantumCircuit(2)\n",
    "theta1=Parameter('θ1')\n",
    "theta2=Parameter('θ2')\n",
    "theta3=Parameter('θ3')\n",
    "theta4=Parameter('θ4')\n",
    "qc_p.ry(theta1,0)\n",
    "qc_p.ry(theta2,1)\n",
    "qc_p.h(1)\n",
    "qc_p.cx(0, 1)\n",
    "qc_p.h(1)\n",
    "qc_p.ry(theta3,0)\n",
    "qc_p.ry(theta4,1)\n",
    "qc_p.draw()"
   ]
  },
  {
   "cell_type": "code",
   "execution_count": null,
   "id": "cdf5c81e-93f3-41c3-b8ce-feb21b9a8cdd",
   "metadata": {
    "tags": []
   },
   "outputs": [],
   "source": [
    "initial_point = np.random.random(qc_p.num_parameters)\n",
    "optimizer= SPSA(maxiter=500)\n"
   ]
  },
  {
   "cell_type": "code",
   "execution_count": null,
   "id": "a4709045-aba8-45ac-80eb-385690aba4e5",
   "metadata": {
    "tags": []
   },
   "outputs": [],
   "source": [
    "counts = []\n",
    "values = []\n",
    "\n",
    "def store(eval_count, parameters, mean, std):\n",
    "    counts.append(eval_count)\n",
    "    values.append(mean)"
   ]
  },
  {
   "cell_type": "code",
   "execution_count": null,
   "id": "0557cc49-bfc1-4ff3-9273-bed20bebfa33",
   "metadata": {
    "tags": []
   },
   "outputs": [],
   "source": [
    "runtime_vqe = CustomVQEClient(\n",
    "                          ansatz=qc_p ,#ansatz,\n",
    "                          optimizer=optimizer,\n",
    "                          initial_point=initial_point,\n",
    "                          provider=provider,\n",
    "                          backend=backend,\n",
    "                          shots=1024,\n",
    "                           )"
   ]
  },
  {
   "cell_type": "code",
   "execution_count": null,
   "id": "d271cefa-df38-41e3-8195-3c0c1ecd3804",
   "metadata": {
    "tags": []
   },
   "outputs": [],
   "source": [
    "runtime_vqe_groundstate_solver = GroundStateEigensolver(qubit_converter, runtime_vqe)\n",
    "op,po=runtime_vqe_groundstate_solver.get_qubit_operators(problem_reduced)\n",
    "joob=runtime_vqe.send_jobs(op,po)\n",
    "print(joob)"
   ]
  },
  {
   "cell_type": "code",
   "execution_count": null,
   "id": "1300bd5f-a139-4b6e-8efd-e3ab7ebc97d8",
   "metadata": {},
   "outputs": [],
   "source": [
    "res1=runtime_vqe.compute_result(joob,problem_reduced,op,po)\n",
    "Energy=res1.total_energies[0]\n",
    "print(Energy)"
   ]
  }
 ],
 "metadata": {
  "kernelspec": {
   "display_name": "Python 3 (ipykernel)",
   "language": "python",
   "name": "python3"
  },
  "language_info": {
   "codemirror_mode": {
    "name": "ipython",
    "version": 3
   },
   "file_extension": ".py",
   "mimetype": "text/x-python",
   "name": "python",
   "nbconvert_exporter": "python",
   "pygments_lexer": "ipython3",
   "version": "3.10.8"
  },
  "widgets": {
   "application/vnd.jupyter.widget-state+json": {
    "state": {},
    "version_major": 2,
    "version_minor": 0
   }
  }
 },
 "nbformat": 4,
 "nbformat_minor": 5
}
